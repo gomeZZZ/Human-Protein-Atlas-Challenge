{
 "cells": [
  {
   "cell_type": "code",
   "execution_count": null,
   "metadata": {},
   "outputs": [],
   "source": [
    "from IPython.core.display import display, HTML\n",
    "import os\n",
    "import errno\n",
    "from multiprocessing.pool import Pool\n",
    "import sys\n",
    "sys.path.append('../')\n",
    "from Utils.download import *\n",
    "import pandas as pd\n",
    "\n",
    "%matplotlib inline\n",
    "display(HTML(\"<style>.container { width:100% !important; }</style>\"))\n",
    "\n",
    "%load_ext autoreload\n",
    "%autoreload 2\n",
    "\n",
    "out_folder = 'D:/data/HPA/all/external/'\n",
    "print('Done.')"
   ]
  },
  {
   "cell_type": "markdown",
   "metadata": {},
   "source": [
    "#### Following code is based on https://www.kaggle.com/c/human-protein-atlas-image-classification/discussion/69984"
   ]
  },
  {
   "cell_type": "code",
   "execution_count": null,
   "metadata": {
    "scrolled": true
   },
   "outputs": [],
   "source": [
    "# Parameters\n",
    "process_num = 24\n",
    "image_size = (512, 512)\n",
    "url = 'http://v18.proteinatlas.org/images/'\n",
    "csv_path =  \"D:/data/HPA/all/external.csv\"\n",
    "save_dir = out_folder\n",
    "\n",
    "# Create the directory to save the images in case it doesn't exist\n",
    "try:\n",
    "    os.makedirs(save_dir)\n",
    "except OSError as exc:\n",
    "    if exc.errno != errno.EEXIST:\n",
    "        raise\n",
    "    pass\n",
    "\n",
    "print('Parent process %s.' % os.getpid())\n",
    "print(\"Reading external csv..\")\n",
    "img_list = pd.read_csv(csv_path)['Id']\n",
    "list_len = len(img_list)\n",
    "p = Pool(process_num)\n",
    "\n",
    "print(\"Starting processes. Listlength = \",list_len)\n",
    "for i in range(process_num):\n",
    "    start = int(i * list_len / process_num)\n",
    "    end = int((i + 1) * list_len / process_num)\n",
    "    process_images = img_list[start:end]\n",
    "    p.apply_async(\n",
    "        download, args=(str(i), process_images, url, save_dir, image_size)\n",
    "    )\n",
    "print('Waiting for all subprocesses done...')\n",
    "p.close()\n",
    "p.join()\n",
    "print('All subprocesses done.')"
   ]
  }
 ],
 "metadata": {
  "kernelspec": {
   "display_name": "Python 3",
   "language": "python",
   "name": "python3"
  },
  "language_info": {
   "codemirror_mode": {
    "name": "ipython",
    "version": 3
   },
   "file_extension": ".py",
   "mimetype": "text/x-python",
   "name": "python",
   "nbconvert_exporter": "python",
   "pygments_lexer": "ipython3",
   "version": "3.6.2"
  }
 },
 "nbformat": 4,
 "nbformat_minor": 2
}
