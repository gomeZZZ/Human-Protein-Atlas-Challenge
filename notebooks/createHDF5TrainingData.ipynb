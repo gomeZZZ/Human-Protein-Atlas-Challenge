{
 "cells": [
  {
   "cell_type": "markdown",
   "metadata": {},
   "source": [
    "#### Settings"
   ]
  },
  {
   "cell_type": "code",
   "execution_count": null,
   "metadata": {},
   "outputs": [],
   "source": [
    "from IPython.core.display import display, HTML\n",
    "import sys\n",
    "sys.path.append('../')\n",
    "import numpy as np\n",
    "import matplotlib.pyplot as plt\n",
    "import matplotlib as mpl\n",
    "import pandas\n",
    "from ipywidgets import interact\n",
    "%matplotlib inline\n",
    "display(HTML(\"<style>.container { width:100% !important; }</style>\"))\n",
    "\n",
    "%load_ext autoreload\n",
    "%autoreload 2\n",
    "\n",
    "from jupyterthemes import jtplot\n",
    "# set \"context\" (paper, notebook, talk, poster)\n",
    "jtplot.style(theme='grade3',context='talk', fscale=2.5, spines=True, gridlines='-',ticks=True, grid=True, figsize=(6, 4.5))\n",
    "plotcolor = (0, 0.6, 1.0)\n",
    "print('Done.')"
   ]
  },
  {
   "cell_type": "code",
   "execution_count": null,
   "metadata": {
    "scrolled": true
   },
   "outputs": [],
   "source": [
    "import gc\n",
    "gc.collect()\n",
    "\n",
    "data_folder = 'D:/data/HPB/all/'\n",
    "\n",
    "#Read Labels\n",
    "label_csv = pandas.read_csv(data_folder+'train.csv')\n",
    "samplecount = label_csv.size\n",
    "buffer_size = 5000\n",
    "print(label_csv)\n",
    "buffer_poi_channel = np.zeros([buffer_size,512,512,1],dtype = np.uint8) #protein of intereset channel only\n",
    "buffer_all_channels = np.zeros([buffer_size,512,512,4],dtype = np.uint8) #all channels\n",
    "\n",
    "# for row in label_csv.iterrows():\n",
    "    \n",
    "print(\"Done.\")\n",
    "# for root, dirs, files in os.walk(folderpath): \n",
    "#     for file in files:\n",
    "#         if file.endswith(\".avi\"):\n",
    "#             # print(\"Reading \",file)\n",
    "#             name = file\n",
    "#             frames = readAVI(os.path.join(root, file),nrOfFrames)\n",
    "\n",
    "#     for file in files:\n",
    "#         if file.endswith(\".roi\"):\n",
    "#             # print(\"Reading \",file)\n",
    "#             bb = readROI(os.path.join(root, file))\n",
    "#             bb = convertBBToInvertedY(bb,frames[0].shape)"
   ]
  }
 ],
 "metadata": {
  "kernelspec": {
   "display_name": "Python 3",
   "language": "python",
   "name": "python3"
  },
  "language_info": {
   "codemirror_mode": {
    "name": "ipython",
    "version": 3
   },
   "file_extension": ".py",
   "mimetype": "text/x-python",
   "name": "python",
   "nbconvert_exporter": "python",
   "pygments_lexer": "ipython3",
   "version": "3.6.4"
  }
 },
 "nbformat": 4,
 "nbformat_minor": 2
}
