{
 "cells": [
  {
   "cell_type": "markdown",
   "metadata": {},
   "source": [
    "#### Settings"
   ]
  },
  {
   "cell_type": "code",
   "execution_count": 1,
   "metadata": {},
   "outputs": [
    {
     "data": {
      "text/html": [
       "<style>.container { width:100% !important; }</style>"
      ],
      "text/plain": [
       "<IPython.core.display.HTML object>"
      ]
     },
     "metadata": {},
     "output_type": "display_data"
    },
    {
     "name": "stdout",
     "output_type": "stream",
     "text": [
      "Done.\n"
     ]
    }
   ],
   "source": [
    "from IPython.core.display import display, HTML\n",
    "import sys,cv2\n",
    "sys.path.append('../')\n",
    "import numpy as np\n",
    "import matplotlib.pyplot as plt\n",
    "import matplotlib as mpl\n",
    "import pandas\n",
    "from Utils.utils import *\n",
    "from ipywidgets import interact\n",
    "%matplotlib inline\n",
    "display(HTML(\"<style>.container { width:100% !important; }</style>\"))\n",
    "\n",
    "%load_ext autoreload\n",
    "%autoreload 2\n",
    "\n",
    "from jupyterthemes import jtplot\n",
    "# set \"context\" (paper, notebook, talk, poster)\n",
    "jtplot.style(theme='grade3',context='talk', fscale=2.5, spines=True, gridlines='-',ticks=True, grid=True, figsize=(6, 4.5))\n",
    "plotcolor = (0, 0.6, 1.0)\n",
    "print('Done.')"
   ]
  },
  {
   "cell_type": "markdown",
   "metadata": {},
   "source": [
    "#### Create HDFs for training data"
   ]
  },
  {
   "cell_type": "code",
   "execution_count": 3,
   "metadata": {
    "scrolled": false
   },
   "outputs": [
    {
     "name": "stdout",
     "output_type": "stream",
     "text": [
      "Collecting garbage...\n",
      "                                     Id   Target\n",
      "0  00070df0-bbc3-11e8-b2bc-ac1f6b6435d0     16 0\n",
      "1  000a6c98-bb9b-11e8-b2b9-ac1f6b6435d0  7 1 2 0\n",
      "2  000a9596-bbc4-11e8-b2bc-ac1f6b6435d0        5\n",
      "3  000c99ba-bba4-11e8-b2b9-ac1f6b6435d0        1\n",
      "4  001838f8-bbca-11e8-b2bc-ac1f6b6435d0       18\n",
      "Creating HDF5... |███████████████████████████████████████████████████████████████████████████████████████████████████-| 99.9% (31050/31072)\n",
      "Done.\n"
     ]
    }
   ],
   "source": [
    "import gc\n",
    "import deepdish as dd\n",
    "print(\"Collecting garbage...\")\n",
    "gc.collect()\n",
    "\n",
    "data_folder = 'D:/data/HPA/all/'\n",
    "\n",
    "#Read Labels\n",
    "label_csv = pandas.read_csv(data_folder+'train.csv')\n",
    "samplecount = label_csv['Id'].size\n",
    "buffer_size = 5000 # How big should the buffers be?\n",
    "idx = 0\n",
    "buffer_idx = 0\n",
    "partNr = 0\n",
    "\n",
    "print(label_csv.head(5))\n",
    "\n",
    "buffer_poi_channel = np.zeros([buffer_size,512,512,1],dtype = np.uint8) #protein of intereset channel only\n",
    "buffer_all_channels = np.zeros([buffer_size,512,512,4],dtype = np.uint8) #all channels\n",
    "labels = np.zeros([buffer_size,28],dtype = np.bool)\n",
    "for _, row in label_csv.iterrows():\n",
    "    \n",
    "    if buffer_idx == buffer_size:\n",
    "        #save\n",
    "        data = {'X': buffer_poi_channel, 'labels': labels}\n",
    "        dd.io.save(data_folder+'poi_'+str(partNr)+'.h5', data,compression=('blosc', 8))\n",
    "        \n",
    "        data = {'X': buffer_all_channels, 'labels': labels}\n",
    "        dd.io.save(data_folder+'all_channel_'+str(partNr)+'.h5', data,compression=('blosc', 8))\n",
    "        data = None #free memory\n",
    "        \n",
    "        if samplecount - idx < buffer_size:\n",
    "            buffer_poi_channel = np.zeros([samplecount - idx,512,512,1],dtype = np.uint8) #protein of intereset channel only\n",
    "            buffer_all_channels = np.zeros([samplecount - idx,512,512,4],dtype = np.uint8) #all channels\n",
    "            labels = np.zeros([samplecount - idx,28],dtype = np.bool)\n",
    "        \n",
    "        #move on\n",
    "        buffer_idx = 0\n",
    "        partNr += 1\n",
    "        \n",
    "    fn = data_folder+'train/'+row['Id']\n",
    "    \n",
    "    if idx % 25 == 0:\n",
    "        printProgressBar (idx, samplecount, prefix = 'Creating HDF5...', suffix = '(' + str(idx) + '/' + str(samplecount) + ')')\n",
    "        \n",
    "    blue,green,red,yellow = cv2.imread(fn+'_blue.png',0),cv2.imread(fn+'_green.png',0),cv2.imread(fn+'_red.png',0),cv2.imread(fn+'_yellow.png',0)\n",
    "    \n",
    "    buffer_poi_channel[buffer_idx] = np.expand_dims(green,axis=2)\n",
    "    buffer_all_channels[buffer_idx,:,:,0] = green\n",
    "    buffer_all_channels[buffer_idx,:,:,1] = red\n",
    "    buffer_all_channels[buffer_idx,:,:,2] = blue\n",
    "    buffer_all_channels[buffer_idx,:,:,3] = yellow\n",
    "    \n",
    "    labelNr = list(map(int,row['Target'].split(' ')))\n",
    "\n",
    "    labels[buffer_idx,labelNr] = True #Convert labels to bool, where entry is true if class is present\n",
    "\n",
    "    if blue is None:\n",
    "        print(\"Error: File not found.\")\n",
    "        \n",
    "    idx += 1\n",
    "    buffer_idx +=1\n",
    "\n",
    "#save last, smaller buffer\n",
    "data = {'X': buffer_poi_channel, 'labels': labels}\n",
    "dd.io.save(data_folder+'poi_'+str(partNr)+'.h5', data,compression=('blosc', 8))\n",
    "\n",
    "data = {'X': buffer_all_channels, 'labels': labels}\n",
    "dd.io.save(data_folder+'all_channel_'+str(partNr)+'.h5', data,compression=('blosc', 8))\n",
    "\n",
    "data = None #free memory\n",
    "buffer_poi_channel = None\n",
    "buffer_all_channels = None\n",
    "\n",
    "print()\n",
    "print(\"Done.\")\n"
   ]
  },
  {
   "cell_type": "markdown",
   "metadata": {},
   "source": [
    "#### Create HDF5 for test data"
   ]
  },
  {
   "cell_type": "code",
   "execution_count": null,
   "metadata": {},
   "outputs": [],
   "source": [
    "print(\"Collecting garbage...\")\n",
    "gc.collect()\n",
    "\n",
    "#Read Labels\n",
    "fn_csv = pandas.read_csv(data_folder+'sample_submission.csv')\n",
    "samplecount = fn_csv['Id'].size\n",
    "buffer_size = 11702 # How big should the buffers be?\n",
    "idx = 0\n",
    "\n",
    "print(fn_csv.head(5))\n",
    "\n",
    "poi_channel = np.zeros([buffer_size,512,512,1],dtype = np.uint8) #protein of intereset channel only\n",
    "all_channels = np.zeros([buffer_size,512,512,4],dtype = np.uint8) #all channels\n",
    "\n",
    "for _, row in fn_csv.iterrows():   \n",
    "    fn = data_folder+'test/'+row['Id']\n",
    "    \n",
    "    if idx % 25 == 0:\n",
    "        printProgressBar (idx, samplecount, prefix = 'Creating HDF5...', suffix = '(' + str(idx) + '/' + str(samplecount) + ')')\n",
    "        \n",
    "    blue,green,red,yellow = cv2.imread(fn+'_blue.png',0),cv2.imread(fn+'_green.png',0),cv2.imread(fn+'_red.png',0),cv2.imread(fn+'_yellow.png',0)\n",
    "    \n",
    "    poi_channel[idx] = np.expand_dims(green,axis=2)\n",
    "    all_channels[idx,:,:,0] = green\n",
    "    all_channels[idx,:,:,1] = red\n",
    "    all_channels[idx,:,:,2] = blue\n",
    "    all_channels[idx,:,:,3] = yellow\n",
    "\n",
    "    if blue is None:\n",
    "        print(\"Error: File not found.\")\n",
    "        \n",
    "    idx += 1\n",
    "    \n",
    "#save\n",
    "data = {'X': poi_channel}\n",
    "dd.io.save(data_folder+'test_poi.h5', data,compression=('blosc', 8))\n",
    "\n",
    "data = {'X': all_channels}\n",
    "dd.io.save(data_folder+'test_all_channel.h5', data,compression=('blosc', 8))\n",
    "\n",
    "data = None #free memory\n",
    "poi_channel = None\n",
    "all_channels = None\n",
    "\n",
    "print()\n",
    "print(\"Done.\")\n"
   ]
  },
  {
   "cell_type": "markdown",
   "metadata": {},
   "source": [
    "#### Show sample data"
   ]
  },
  {
   "cell_type": "code",
   "execution_count": null,
   "metadata": {},
   "outputs": [],
   "source": [
    "d = dd.io.load(data_folder+'test_poi.h5')\n",
    "print(\"Done.\")"
   ]
  },
  {
   "cell_type": "code",
   "execution_count": null,
   "metadata": {
    "scrolled": false
   },
   "outputs": [],
   "source": [
    "X = d['X']\n",
    "print(X.shape)\n",
    "plt.imshow(X[101].squeeze(),cmap='gray')"
   ]
  }
 ],
 "metadata": {
  "kernelspec": {
   "display_name": "Python 3",
   "language": "python",
   "name": "python3"
  },
  "language_info": {
   "codemirror_mode": {
    "name": "ipython",
    "version": 3
   },
   "file_extension": ".py",
   "mimetype": "text/x-python",
   "name": "python",
   "nbconvert_exporter": "python",
   "pygments_lexer": "ipython3",
   "version": "3.6.2"
  }
 },
 "nbformat": 4,
 "nbformat_minor": 2
}
