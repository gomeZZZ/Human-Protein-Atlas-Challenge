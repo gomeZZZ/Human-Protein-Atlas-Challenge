{
 "cells": [
  {
   "cell_type": "code",
   "execution_count": null,
   "metadata": {},
   "outputs": [],
   "source": [
    "%load_ext autoreload\n",
    "%autoreload 2\n",
    "\n",
    "from IPython.core.display import display, HTML\n",
    "import sys,cv2\n",
    "sys.path.append('../')\n",
    "import numpy as np\n",
    "import matplotlib.pyplot as plt\n",
    "import matplotlib as mpl\n",
    "import pandas as pd\n",
    "import datetime\n",
    "\n",
    "from Utils.utils import *\n",
    "from Utils.f1_score import *\n",
    "from ipywidgets import interact\n",
    "%matplotlib inline\n",
    "display(HTML(\"<style>.container { width:100% !important; }</style>\"))\n",
    "\n",
    "from jupyterthemes import jtplot\n",
    "# set \"context\" (paper, notebook, talk, poster)\n",
    "jtplot.style(theme='grade3',context='talk', fscale=2.5, spines=True, gridlines='-',ticks=True, grid=True, figsize=(6, 4.5))\n",
    "plotcolor = (0, 0.6, 1.0)\n",
    "\n",
    "import torch\n",
    "import torchvision\n",
    "import torchvision.models as models\n",
    "import torch.optim as optim\n",
    "import torch.nn as nn\n",
    "\n",
    "import deepdish as dd\n",
    "\n",
    "import timeit,gc\n",
    "\n",
    "data_folder = 'D:/data/HPA/all/'\n",
    "model_folder = 'D:/data/HPA/models/'\n",
    "out_folder = 'D:/data/HPA/out/'\n",
    "USE_SMALL_IMAGES = True\n",
    "USE_ONLY_POI = True\n",
    "\n",
    "print(\"Using GPU:\",torch.cuda.is_available())\n",
    "print(\"Using device \",torch.cuda.get_device_name(0))\n",
    "print(\"Done.\")"
   ]
  },
  {
   "cell_type": "markdown",
   "metadata": {},
   "source": [
    "### Load test data"
   ]
  },
  {
   "cell_type": "code",
   "execution_count": null,
   "metadata": {},
   "outputs": [],
   "source": [
    "%%time\n",
    "if USE_ONLY_POI:\n",
    "    filename = 'test_poi'\n",
    "else:\n",
    "    filename = 'test_all_channel_'\n",
    "    \n",
    "if USE_SMALL_IMAGES:\n",
    "    d = dd.io.load(data_folder+filename+'_small.h5')\n",
    "else:\n",
    "    d = dd.io.load(data_folder+filename+'.h5')\n",
    "\n",
    "    \n",
    "X = d['X'].astype(np.float32) / 255.0 # torch likes float images\n",
    "\n",
    "IDs = d['ID']\n",
    "   \n",
    "print(\"Shapes are:\")\n",
    "print(X.shape)\n",
    "print(\"Done\")"
   ]
  },
  {
   "cell_type": "markdown",
   "metadata": {},
   "source": [
    "### Load model"
   ]
  },
  {
   "cell_type": "code",
   "execution_count": null,
   "metadata": {},
   "outputs": [],
   "source": [
    "#Setup resnet model\n",
    "net = models.resnet18(pretrained=False)\n",
    "modelname = \"baseline\"\n",
    "\n",
    "if USE_ONLY_POI:\n",
    "    net.conv1 = nn.Conv2d(1, 64, kernel_size=7, stride=2, padding=3,bias=False)\n",
    "else:\n",
    "    net.conv1 = nn.Conv2d(4, 64, kernel_size=7, stride=2, padding=3,bias=False)\n",
    "    \n",
    "if USE_SMALL_IMAGES:\n",
    "    net.fc = nn.Linear(512, 28) #adapt last layer to allow larger input images\n",
    "else:\n",
    "    net.fc = nn.Linear(51200, 28) #adapt last layer to allow larger input images\n",
    "\n",
    "if not USE_ONLY_POI:\n",
    "    modelname = modelname + \"_all\"\n",
    "    \n",
    "if USE_SMALL_IMAGES:\n",
    "    modelname = modelname + \"_small\"\n",
    "\n",
    "net.load_state_dict(torch.load(model_folder+modelname+\".model\")) \n",
    "    \n",
    "print(\"Done.\")"
   ]
  },
  {
   "cell_type": "markdown",
   "metadata": {},
   "source": [
    "### Run test set"
   ]
  },
  {
   "cell_type": "code",
   "execution_count": null,
   "metadata": {
    "scrolled": false
   },
   "outputs": [],
   "source": [
    "# Run validation\n",
    "gc.collect() \n",
    "net.eval()\n",
    "\n",
    "batch_size = 100\n",
    "iterations_per_epoch = np.ceil(X.shape[0] / batch_size).astype(int)\n",
    "\n",
    "time_per_epoch,runtime = 0,0\n",
    "labels = []\n",
    "\n",
    "for i in range(iterations_per_epoch):\n",
    "    start = timeit.default_timer() #measure time\n",
    "    start_idx = i * batch_size\n",
    "    \n",
    "    real_batch_size = np.minimum(batch_size,X.shape[0] - i*batch_size)\n",
    "    if real_batch_size == 0: #in case X.shape[0] is divisible by batch size this is required\n",
    "        real_batch_size = batch_size\n",
    "\n",
    "    X_batch = torch.tensor(X[start_idx:start_idx+real_batch_size].transpose(0,3,1,2))\n",
    "\n",
    "    # forward + backward + optimize\n",
    "    outputs = net(X_batch)\n",
    "    \n",
    "    #store output, the for loop might be avoidable\n",
    "    out = outputs.detach().numpy() > 0.5\n",
    "    for label in out:\n",
    "        labels.append(np.argwhere(label))\n",
    "    \n",
    "    \n",
    "    #measure runtime\n",
    "    stop = timeit.default_timer()\n",
    "    time_per_epoch = 0.5 * time_per_epoch + 0.5 * (stop-start) * iterations_per_epoch\n",
    "    runtime += (stop-start)\n",
    "    #print performance metrics\n",
    "    print('[iteration = (%3d/%d), time = %3ds, est. time per epoch = %5ds]'\\\n",
    "          %(i+1, iterations_per_epoch, runtime, time_per_epoch))\n",
    "    \n",
    "print(\"Done.\")"
   ]
  },
  {
   "cell_type": "markdown",
   "metadata": {},
   "source": [
    "### Create submission.csv"
   ]
  },
  {
   "cell_type": "code",
   "execution_count": null,
   "metadata": {},
   "outputs": [],
   "source": [
    "print(len(labels))\n",
    "print(len(IDs))\n",
    "converted_labels = []\n",
    "for i,label in enumerate(labels):\n",
    "    converted_labels.append(\"\")\n",
    "    for nr in label:\n",
    "        converted_labels[i] += str(nr[0]) + \" \"\n",
    "    converted_labels[i] = (converted_labels[i])[:-1]"
   ]
  },
  {
   "cell_type": "code",
   "execution_count": null,
   "metadata": {},
   "outputs": [],
   "source": [
    "d = {'Id': IDs, 'Predicted': converted_labels}\n",
    "df = pd.DataFrame(data=d)\n",
    "print(df)\n",
    "df.to_csv(path_or_buf=out_folder + \"submission_\" + str(datetime.datetime.now().strftime(\"%Y-%m-%d_%H-%M-%S\")) + \".csv\", index=False)"
   ]
  }
 ],
 "metadata": {
  "kernelspec": {
   "display_name": "Python 3",
   "language": "python",
   "name": "python3"
  },
  "language_info": {
   "codemirror_mode": {
    "name": "ipython",
    "version": 3
   },
   "file_extension": ".py",
   "mimetype": "text/x-python",
   "name": "python",
   "nbconvert_exporter": "python",
   "pygments_lexer": "ipython3",
   "version": "3.6.2"
  }
 },
 "nbformat": 4,
 "nbformat_minor": 2
}
